{
 "cells": [
  {
   "cell_type": "markdown",
   "id": "faeacbd8",
   "metadata": {},
   "source": [
    "# Numpy Cheatsheet"
   ]
  },
  {
   "cell_type": "code",
   "execution_count": 1,
   "id": "1acdfd48",
   "metadata": {},
   "outputs": [],
   "source": [
    "import numpy as np"
   ]
  },
  {
   "cell_type": "code",
   "execution_count": 2,
   "id": "113572b2",
   "metadata": {},
   "outputs": [
    {
     "data": {
      "text/plain": [
       "[1, 2, 3, 4, 5]"
      ]
     },
     "execution_count": 2,
     "metadata": {},
     "output_type": "execute_result"
    }
   ],
   "source": [
    "# python list\n",
    "my_list = [1,2,3,4,5]\n",
    "my_list"
   ]
  },
  {
   "cell_type": "code",
   "execution_count": 3,
   "id": "b6d9c9ef",
   "metadata": {},
   "outputs": [
    {
     "data": {
      "text/plain": [
       "list"
      ]
     },
     "execution_count": 3,
     "metadata": {},
     "output_type": "execute_result"
    }
   ],
   "source": [
    "type(my_list)"
   ]
  },
  {
   "cell_type": "markdown",
   "id": "134de123",
   "metadata": {},
   "source": [
    "### python list to numpy array"
   ]
  },
  {
   "cell_type": "code",
   "execution_count": 4,
   "id": "08e53135",
   "metadata": {},
   "outputs": [
    {
     "data": {
      "text/plain": [
       "array([1, 2, 3, 4, 5])"
      ]
     },
     "execution_count": 4,
     "metadata": {},
     "output_type": "execute_result"
    }
   ],
   "source": [
    "# numpy array\n",
    "my_array = np.array(my_list)\n",
    "my_array"
   ]
  },
  {
   "cell_type": "code",
   "execution_count": 5,
   "id": "9ef8e0a4",
   "metadata": {},
   "outputs": [
    {
     "data": {
      "text/plain": [
       "numpy.ndarray"
      ]
     },
     "execution_count": 5,
     "metadata": {},
     "output_type": "execute_result"
    }
   ],
   "source": [
    "type(my_array)"
   ]
  },
  {
   "cell_type": "markdown",
   "id": "5470e1a6",
   "metadata": {},
   "source": [
    "### 2d array "
   ]
  },
  {
   "cell_type": "code",
   "execution_count": 6,
   "id": "edf2e488",
   "metadata": {},
   "outputs": [
    {
     "data": {
      "text/plain": [
       "array([[1, 2, 3],\n",
       "       [4, 5, 6],\n",
       "       [7, 8, 9]])"
      ]
     },
     "execution_count": 6,
     "metadata": {},
     "output_type": "execute_result"
    }
   ],
   "source": [
    "my_matrix = np.array([[1,2,3],[4,5,6],[7,8,9]])\n",
    "my_matrix"
   ]
  },
  {
   "cell_type": "code",
   "execution_count": 7,
   "id": "d7bb5737",
   "metadata": {},
   "outputs": [
    {
     "data": {
      "text/plain": [
       "numpy.ndarray"
      ]
     },
     "execution_count": 7,
     "metadata": {},
     "output_type": "execute_result"
    }
   ],
   "source": [
    "type(my_matrix)"
   ]
  },
  {
   "cell_type": "code",
   "execution_count": 8,
   "id": "49d1db67",
   "metadata": {},
   "outputs": [
    {
     "data": {
      "text/plain": [
       "2"
      ]
     },
     "execution_count": 8,
     "metadata": {},
     "output_type": "execute_result"
    }
   ],
   "source": [
    "# dimention of array\n",
    "my_matrix.ndim"
   ]
  },
  {
   "cell_type": "code",
   "execution_count": 9,
   "id": "96aa44b3",
   "metadata": {},
   "outputs": [
    {
     "data": {
      "text/plain": [
       "(3, 3)"
      ]
     },
     "execution_count": 9,
     "metadata": {},
     "output_type": "execute_result"
    }
   ],
   "source": [
    "# shape of matrix\n",
    "my_matrix.shape"
   ]
  },
  {
   "cell_type": "markdown",
   "id": "e44acd98",
   "metadata": {},
   "source": [
    "### numpy common meathods"
   ]
  },
  {
   "cell_type": "code",
   "execution_count": 10,
   "id": "59bae85e",
   "metadata": {},
   "outputs": [
    {
     "data": {
      "text/plain": [
       "array([0, 1, 2, 3, 4, 5, 6, 7, 8, 9])"
      ]
     },
     "execution_count": 10,
     "metadata": {},
     "output_type": "execute_result"
    }
   ],
   "source": [
    "# arange meathod of array creation \n",
    "np.arange(0,10)"
   ]
  },
  {
   "cell_type": "code",
   "execution_count": 11,
   "id": "2e014d1e",
   "metadata": {},
   "outputs": [
    {
     "data": {
      "text/plain": [
       "array([0, 2, 4, 6, 8])"
      ]
     },
     "execution_count": 11,
     "metadata": {},
     "output_type": "execute_result"
    }
   ],
   "source": [
    "# even only\n",
    "np.arange(0,10,2)"
   ]
  },
  {
   "cell_type": "code",
   "execution_count": 12,
   "id": "d3f34b4c",
   "metadata": {},
   "outputs": [
    {
     "data": {
      "text/plain": [
       "array([0., 0., 0., 0., 0.])"
      ]
     },
     "execution_count": 12,
     "metadata": {},
     "output_type": "execute_result"
    }
   ],
   "source": [
    "# array creation with zeros\n",
    "# 1d array\n",
    "np.zeros(5)"
   ]
  },
  {
   "cell_type": "code",
   "execution_count": 13,
   "id": "125ae2aa",
   "metadata": {},
   "outputs": [
    {
     "data": {
      "text/plain": [
       "array([[0., 0., 0.],\n",
       "       [0., 0., 0.],\n",
       "       [0., 0., 0.],\n",
       "       [0., 0., 0.],\n",
       "       [0., 0., 0.]])"
      ]
     },
     "execution_count": 13,
     "metadata": {},
     "output_type": "execute_result"
    }
   ],
   "source": [
    "# 2d array\n",
    "np.zeros((5,3))\n",
    "# 3d \n",
    "# np.zeros((5,3,5))"
   ]
  },
  {
   "cell_type": "code",
   "execution_count": 14,
   "id": "2696af57",
   "metadata": {},
   "outputs": [
    {
     "data": {
      "text/plain": [
       "array([[1., 1., 1.],\n",
       "       [1., 1., 1.],\n",
       "       [1., 1., 1.]])"
      ]
     },
     "execution_count": 14,
     "metadata": {},
     "output_type": "execute_result"
    }
   ],
   "source": [
    "# array creation with ones\n",
    "# 1d array\n",
    "np.ones((3,3))"
   ]
  },
  {
   "cell_type": "markdown",
   "id": "24afca4a",
   "metadata": {},
   "source": [
    "### random numbers"
   ]
  },
  {
   "cell_type": "code",
   "execution_count": 15,
   "id": "7acc77e5",
   "metadata": {},
   "outputs": [
    {
     "data": {
      "text/plain": [
       "array([0.70628618, 0.26265058, 0.57041254, 0.37012696, 0.77150759])"
      ]
     },
     "execution_count": 15,
     "metadata": {},
     "output_type": "execute_result"
    }
   ],
   "source": [
    "np.random.rand(5)"
   ]
  },
  {
   "cell_type": "code",
   "execution_count": 16,
   "id": "e8d07abf",
   "metadata": {},
   "outputs": [
    {
     "data": {
      "text/plain": [
       "array([[0.97522405, 0.68587242, 0.36461447],\n",
       "       [0.8877917 , 0.49950789, 0.74535112]])"
      ]
     },
     "execution_count": 16,
     "metadata": {},
     "output_type": "execute_result"
    }
   ],
   "source": [
    "np.random.rand(2,3)"
   ]
  },
  {
   "cell_type": "code",
   "execution_count": 17,
   "id": "399f4854",
   "metadata": {},
   "outputs": [
    {
     "data": {
      "text/plain": [
       "array([[ 4,  8],\n",
       "       [13, 16]])"
      ]
     },
     "execution_count": 17,
     "metadata": {},
     "output_type": "execute_result"
    }
   ],
   "source": [
    "# within a spacificed range\n",
    "# 2x2 matrix with range of 1 -20\n",
    "np.random.randint(1,20,(2,2))"
   ]
  },
  {
   "cell_type": "code",
   "execution_count": 18,
   "id": "9086f35d",
   "metadata": {},
   "outputs": [
    {
     "data": {
      "text/plain": [
       "array([[10,  5],\n",
       "       [16,  1]])"
      ]
     },
     "execution_count": 18,
     "metadata": {},
     "output_type": "execute_result"
    }
   ],
   "source": [
    "# get same randome values always\n",
    "np.random.seed(10) # can spacify any value but should be same when need\n",
    "np.random.randint(1,20,(2,2)) # this random values will always be same if seed spacified"
   ]
  },
  {
   "cell_type": "markdown",
   "id": "32948dc3",
   "metadata": {},
   "source": [
    "### common array meathods"
   ]
  },
  {
   "cell_type": "code",
   "execution_count": 19,
   "id": "2d4ba45d",
   "metadata": {},
   "outputs": [
    {
     "data": {
      "text/plain": [
       "array([[ 1,  2,  3,  4,  5],\n",
       "       [ 6,  7,  8,  9, 10]])"
      ]
     },
     "execution_count": 19,
     "metadata": {},
     "output_type": "execute_result"
    }
   ],
   "source": [
    "# reshape meathods reshapes dimenshions of array\n",
    "arr = np.array([1,2,3,4,5,6,7,8,9,10])\n",
    "arr.reshape(2,5) "
   ]
  },
  {
   "cell_type": "code",
   "execution_count": 20,
   "id": "f852475b",
   "metadata": {},
   "outputs": [
    {
     "data": {
      "text/plain": [
       "2.8722813232690143"
      ]
     },
     "execution_count": 20,
     "metadata": {},
     "output_type": "execute_result"
    }
   ],
   "source": [
    "arr.min() # min\n",
    "arr.max() # max\n",
    "arr.mean() # mean\n",
    "arr.std() # standerd daviation"
   ]
  },
  {
   "cell_type": "markdown",
   "id": "01ba6d10",
   "metadata": {},
   "source": [
    "## selection using indexces"
   ]
  },
  {
   "cell_type": "code",
   "execution_count": 21,
   "id": "f0ed2f66",
   "metadata": {},
   "outputs": [
    {
     "data": {
      "text/plain": [
       "array([18, 17, 18,  9, 10,  1, 11,  9,  5, 17])"
      ]
     },
     "execution_count": 21,
     "metadata": {},
     "output_type": "execute_result"
    }
   ],
   "source": [
    "arr = np.random.randint(1,20,10)\n",
    "arr"
   ]
  },
  {
   "cell_type": "code",
   "execution_count": 22,
   "id": "042bcb06",
   "metadata": {},
   "outputs": [
    {
     "data": {
      "text/plain": [
       "1"
      ]
     },
     "execution_count": 22,
     "metadata": {},
     "output_type": "execute_result"
    }
   ],
   "source": [
    "# np selection is same as python list\n",
    "arr[5]"
   ]
  },
  {
   "cell_type": "code",
   "execution_count": 23,
   "id": "4682e659",
   "metadata": {},
   "outputs": [
    {
     "data": {
      "text/plain": [
       "17"
      ]
     },
     "execution_count": 23,
     "metadata": {},
     "output_type": "execute_result"
    }
   ],
   "source": [
    "arr[9]"
   ]
  },
  {
   "cell_type": "code",
   "execution_count": 24,
   "id": "61051e41",
   "metadata": {},
   "outputs": [
    {
     "data": {
      "text/plain": [
       "17"
      ]
     },
     "execution_count": 24,
     "metadata": {},
     "output_type": "execute_result"
    }
   ],
   "source": [
    "# negitive indexing same starts from end \n",
    "arr[-1]"
   ]
  },
  {
   "cell_type": "code",
   "execution_count": 25,
   "id": "bda77918",
   "metadata": {},
   "outputs": [
    {
     "data": {
      "text/plain": [
       "18"
      ]
     },
     "execution_count": 25,
     "metadata": {},
     "output_type": "execute_result"
    }
   ],
   "source": [
    "# fist element\n",
    "arr[-10]"
   ]
  },
  {
   "cell_type": "markdown",
   "id": "7b91758c",
   "metadata": {},
   "source": [
    "## slicing "
   ]
  },
  {
   "cell_type": "code",
   "execution_count": 26,
   "id": "f03278a2",
   "metadata": {},
   "outputs": [
    {
     "data": {
      "text/plain": [
       "array([ 5, 16, 12, 12,  2,  9,  5, 15, 18, 14])"
      ]
     },
     "execution_count": 26,
     "metadata": {},
     "output_type": "execute_result"
    }
   ],
   "source": [
    "arr = np.random.randint(1,20,10)\n",
    "arr"
   ]
  },
  {
   "cell_type": "code",
   "execution_count": 27,
   "id": "d14b3dff",
   "metadata": {},
   "outputs": [
    {
     "data": {
      "text/plain": [
       "array([12,  2,  9,  5])"
      ]
     },
     "execution_count": 27,
     "metadata": {},
     "output_type": "execute_result"
    }
   ],
   "source": [
    "# from index 3 to 7 (excluded)\n",
    "arr[3:7]"
   ]
  },
  {
   "cell_type": "code",
   "execution_count": 28,
   "id": "d72a3228",
   "metadata": {},
   "outputs": [
    {
     "data": {
      "text/plain": [
       "array([ 5, 16, 12, 12,  2])"
      ]
     },
     "execution_count": 28,
     "metadata": {},
     "output_type": "execute_result"
    }
   ],
   "source": [
    "arr[:5]\n",
    "# same as arr[0:8]"
   ]
  },
  {
   "cell_type": "code",
   "execution_count": 29,
   "id": "7d8d564e",
   "metadata": {},
   "outputs": [
    {
     "data": {
      "text/plain": [
       "array([ 9,  5, 15, 18, 14])"
      ]
     },
     "execution_count": 29,
     "metadata": {},
     "output_type": "execute_result"
    }
   ],
   "source": [
    "arr[5:]\n",
    "# same as arr[5:10]"
   ]
  },
  {
   "cell_type": "code",
   "execution_count": 30,
   "id": "e09a6dfb",
   "metadata": {},
   "outputs": [
    {
     "data": {
      "text/plain": [
       "array([ 5, 16, 12, 12,  2,  9,  5, 15, 18, 14])"
      ]
     },
     "execution_count": 30,
     "metadata": {},
     "output_type": "execute_result"
    }
   ],
   "source": [
    "# full array\n",
    "arr[:]"
   ]
  },
  {
   "cell_type": "markdown",
   "id": "3a309c95",
   "metadata": {},
   "source": [
    "### slicing in 2d"
   ]
  },
  {
   "cell_type": "code",
   "execution_count": 31,
   "id": "debbe9d7",
   "metadata": {},
   "outputs": [
    {
     "data": {
      "text/plain": [
       "array([[70, 14, 26],\n",
       "       [14, 93, 87],\n",
       "       [31, 31, 90]])"
      ]
     },
     "execution_count": 31,
     "metadata": {},
     "output_type": "execute_result"
    }
   ],
   "source": [
    "arr_2d = np.random.randint(1,100,(3,3))\n",
    "arr_2d"
   ]
  },
  {
   "cell_type": "code",
   "execution_count": 32,
   "id": "a9de09a9",
   "metadata": {},
   "outputs": [
    {
     "data": {
      "text/plain": [
       "array([14, 93, 87])"
      ]
     },
     "execution_count": 32,
     "metadata": {},
     "output_type": "execute_result"
    }
   ],
   "source": [
    "# select a singel row at index 1\n",
    "arr_2d[1]"
   ]
  },
  {
   "cell_type": "code",
   "execution_count": 33,
   "id": "c9795a1e",
   "metadata": {},
   "outputs": [
    {
     "data": {
      "text/plain": [
       "87"
      ]
     },
     "execution_count": 33,
     "metadata": {},
     "output_type": "execute_result"
    }
   ],
   "source": [
    "# get a single item\n",
    "arr_2d[1,2]\n",
    "# same as arr_2d[1][2]"
   ]
  },
  {
   "cell_type": "code",
   "execution_count": 34,
   "id": "db22b854",
   "metadata": {},
   "outputs": [
    {
     "data": {
      "text/plain": [
       "array([[14, 26],\n",
       "       [93, 87]])"
      ]
     },
     "execution_count": 34,
     "metadata": {},
     "output_type": "execute_result"
    }
   ],
   "source": [
    "# select a part of matrix -> [row slice , coloumn slice]\n",
    "arr_2d[0:2,1:]\n",
    "# selecct first 2 rows and then select from 1st coloumn to last"
   ]
  },
  {
   "cell_type": "code",
   "execution_count": 35,
   "id": "415b57a2",
   "metadata": {},
   "outputs": [
    {
     "data": {
      "text/plain": [
       "array([[70, 14],\n",
       "       [14, 93],\n",
       "       [31, 31]])"
      ]
     },
     "execution_count": 35,
     "metadata": {},
     "output_type": "execute_result"
    }
   ],
   "source": [
    "arr_2d[:,:2]\n",
    "# arr_2d[:][:2] not same as above"
   ]
  },
  {
   "cell_type": "markdown",
   "id": "2db0f0cb",
   "metadata": {},
   "source": [
    "## broadcasting"
   ]
  },
  {
   "cell_type": "code",
   "execution_count": 36,
   "id": "e4d7989f",
   "metadata": {},
   "outputs": [
    {
     "data": {
      "text/plain": [
       "array([21, 29, 24, 22, 26, 27, 28, 28, 29, 22])"
      ]
     },
     "execution_count": 36,
     "metadata": {},
     "output_type": "execute_result"
    }
   ],
   "source": [
    "arr = np.random.randint(20,30,10)\n",
    "arr "
   ]
  },
  {
   "cell_type": "code",
   "execution_count": 37,
   "id": "dbee711f",
   "metadata": {},
   "outputs": [
    {
     "data": {
      "text/plain": [
       "array([21, 29, 24, 10, 10, 10, 28, 28, 29, 22])"
      ]
     },
     "execution_count": 37,
     "metadata": {},
     "output_type": "execute_result"
    }
   ],
   "source": [
    "# udating list \n",
    "arr[3:6] = 10\n",
    "arr"
   ]
  },
  {
   "cell_type": "code",
   "execution_count": 38,
   "id": "80e7fa92",
   "metadata": {},
   "outputs": [
    {
     "data": {
      "text/plain": [
       "array([21, 29, 24])"
      ]
     },
     "execution_count": 38,
     "metadata": {},
     "output_type": "execute_result"
    }
   ],
   "source": [
    "# creating a slice of arr\n",
    "slice_of_arr = arr[:3]\n",
    "slice_of_arr"
   ]
  },
  {
   "cell_type": "code",
   "execution_count": 39,
   "id": "3c7627d4",
   "metadata": {},
   "outputs": [
    {
     "data": {
      "text/plain": [
       "array([0, 0, 0])"
      ]
     },
     "execution_count": 39,
     "metadata": {},
     "output_type": "execute_result"
    }
   ],
   "source": [
    "# assigning 10 to every element slice array\n",
    "slice_of_arr[:] = 0\n",
    "slice_of_arr"
   ]
  },
  {
   "cell_type": "code",
   "execution_count": 40,
   "id": "e026373a",
   "metadata": {},
   "outputs": [
    {
     "data": {
      "text/plain": [
       "array([ 0,  0,  0, 10, 10, 10, 28, 28, 29, 22])"
      ]
     },
     "execution_count": 40,
     "metadata": {},
     "output_type": "execute_result"
    }
   ],
   "source": [
    "# hear we updated slice array to 0 but it updated orignal arr \n",
    "# this happens beacuse numpy creates refrence to orignal arr when we create a slice \n",
    "# if we update slice it will update orignal arr \n",
    "arr"
   ]
  },
  {
   "cell_type": "code",
   "execution_count": 41,
   "id": "9b90d6a2",
   "metadata": {},
   "outputs": [
    {
     "data": {
      "text/plain": [
       "array([20, 26, 27, 28, 21, 27, 21, 24, 20, 28])"
      ]
     },
     "execution_count": 41,
     "metadata": {},
     "output_type": "execute_result"
    }
   ],
   "source": [
    "# to solve this refrence issue we will use copy meathod which will not create a refrece to orignal array\n",
    "arr = np.random.randint(20,30,10)\n",
    "arr"
   ]
  },
  {
   "cell_type": "code",
   "execution_count": 42,
   "id": "35113f17",
   "metadata": {},
   "outputs": [
    {
     "data": {
      "text/plain": [
       "array([20, 26, 27])"
      ]
     },
     "execution_count": 42,
     "metadata": {},
     "output_type": "execute_result"
    }
   ],
   "source": [
    "slice_of_arr = arr[:3].copy()\n",
    "slice_of_arr"
   ]
  },
  {
   "cell_type": "code",
   "execution_count": 43,
   "id": "e0ff3bf3",
   "metadata": {},
   "outputs": [
    {
     "data": {
      "text/plain": [
       "array([0, 0, 0])"
      ]
     },
     "execution_count": 43,
     "metadata": {},
     "output_type": "execute_result"
    }
   ],
   "source": [
    "# updating sliced array every element\n",
    "slice_of_arr[:]=0\n",
    "slice_of_arr"
   ]
  },
  {
   "cell_type": "code",
   "execution_count": 44,
   "id": "c0a2410b",
   "metadata": {},
   "outputs": [
    {
     "data": {
      "text/plain": [
       "array([20, 26, 27, 28, 21, 27, 21, 24, 20, 28])"
      ]
     },
     "execution_count": 44,
     "metadata": {},
     "output_type": "execute_result"
    }
   ],
   "source": [
    "# here orignal arr is not manipulated when we updated sliced array\n",
    "arr"
   ]
  },
  {
   "cell_type": "markdown",
   "id": "24aff0da",
   "metadata": {},
   "source": [
    "## condishional querying"
   ]
  },
  {
   "cell_type": "code",
   "execution_count": 45,
   "id": "4d311d31",
   "metadata": {},
   "outputs": [
    {
     "data": {
      "text/plain": [
       "array([22, 15, 14, 17, 28, 22, 12, 18, 25, 23, 25, 16, 20, 21, 26, 22, 10,\n",
       "       27, 25, 22])"
      ]
     },
     "execution_count": 45,
     "metadata": {},
     "output_type": "execute_result"
    }
   ],
   "source": [
    "arr = np.random.randint(10,30,20)\n",
    "arr"
   ]
  },
  {
   "cell_type": "code",
   "execution_count": 46,
   "id": "c09b6290",
   "metadata": {},
   "outputs": [
    {
     "data": {
      "text/plain": [
       "array([False,  True,  True,  True, False, False,  True,  True, False,\n",
       "       False, False,  True, False, False, False, False,  True, False,\n",
       "       False, False])"
      ]
     },
     "execution_count": 46,
     "metadata": {},
     "output_type": "execute_result"
    }
   ],
   "source": [
    "# returns boolean array \n",
    "arr < 20"
   ]
  },
  {
   "cell_type": "code",
   "execution_count": 47,
   "id": "727aa053",
   "metadata": {},
   "outputs": [
    {
     "data": {
      "text/plain": [
       "array([15, 14, 17, 12, 18, 16, 10])"
      ]
     },
     "execution_count": 47,
     "metadata": {},
     "output_type": "execute_result"
    }
   ],
   "source": [
    "# create a condishional array\n",
    "new_arr = arr[arr < 20]\n",
    "new_arr"
   ]
  },
  {
   "cell_type": "markdown",
   "id": "45674944",
   "metadata": {},
   "source": [
    "## operators"
   ]
  },
  {
   "cell_type": "code",
   "execution_count": 48,
   "id": "174174fa",
   "metadata": {},
   "outputs": [
    {
     "data": {
      "text/plain": [
       "array([18, 20, 23, 21, 11, 28, 23, 18, 19, 15])"
      ]
     },
     "execution_count": 48,
     "metadata": {},
     "output_type": "execute_result"
    }
   ],
   "source": [
    "arr = np.random.randint(10,30,10)\n",
    "arr"
   ]
  },
  {
   "cell_type": "code",
   "execution_count": 49,
   "id": "9c840255",
   "metadata": {},
   "outputs": [
    {
     "data": {
      "text/plain": [
       "array([23, 25, 28, 26, 16, 33, 28, 23, 24, 20])"
      ]
     },
     "execution_count": 49,
     "metadata": {},
     "output_type": "execute_result"
    }
   ],
   "source": [
    "arr + 5\n",
    "# arr - 5\n",
    "# arr * 5\n",
    "# arr / 5"
   ]
  },
  {
   "cell_type": "code",
   "execution_count": 50,
   "id": "ecf8a0d7",
   "metadata": {},
   "outputs": [
    {
     "data": {
      "text/plain": [
       "array([36, 40, 46, 42, 22, 56, 46, 36, 38, 30])"
      ]
     },
     "execution_count": 50,
     "metadata": {},
     "output_type": "execute_result"
    }
   ],
   "source": [
    "arr + arr"
   ]
  },
  {
   "cell_type": "code",
   "execution_count": 51,
   "id": "acd47778",
   "metadata": {},
   "outputs": [
    {
     "data": {
      "text/plain": [
       "array([324, 400, 529, 441, 121, 784, 529, 324, 361, 225])"
      ]
     },
     "execution_count": 51,
     "metadata": {},
     "output_type": "execute_result"
    }
   ],
   "source": [
    "arr * arr"
   ]
  },
  {
   "cell_type": "code",
   "execution_count": 52,
   "id": "6bb3428f",
   "metadata": {},
   "outputs": [
    {
     "data": {
      "text/plain": [
       "array([1., 1., 1., 1., 1., 1., 1., 1., 1., 1.])"
      ]
     },
     "execution_count": 52,
     "metadata": {},
     "output_type": "execute_result"
    }
   ],
   "source": [
    "arr / arr"
   ]
  },
  {
   "cell_type": "code",
   "execution_count": 53,
   "id": "e72839f5",
   "metadata": {},
   "outputs": [
    {
     "data": {
      "text/plain": [
       "array([4.24264069, 4.47213595, 4.79583152, 4.58257569, 3.31662479,\n",
       "       5.29150262, 4.79583152, 4.24264069, 4.35889894, 3.87298335])"
      ]
     },
     "execution_count": 53,
     "metadata": {},
     "output_type": "execute_result"
    }
   ],
   "source": [
    "np.sqrt(arr)"
   ]
  },
  {
   "cell_type": "code",
   "execution_count": 54,
   "id": "572f5144",
   "metadata": {},
   "outputs": [
    {
     "data": {
      "text/plain": [
       "array([-0.75098725,  0.91294525, -0.8462204 ,  0.83665564, -0.99999021,\n",
       "        0.27090579, -0.8462204 , -0.75098725,  0.14987721,  0.65028784])"
      ]
     },
     "execution_count": 54,
     "metadata": {},
     "output_type": "execute_result"
    }
   ],
   "source": [
    "np.sin(arr)"
   ]
  },
  {
   "cell_type": "markdown",
   "id": "33ac3293",
   "metadata": {},
   "source": [
    "### operations on 2d array"
   ]
  },
  {
   "cell_type": "code",
   "execution_count": 55,
   "id": "31af0581",
   "metadata": {},
   "outputs": [
    {
     "data": {
      "text/plain": [
       "array([[ 1, 19],\n",
       "       [24,  4]])"
      ]
     },
     "execution_count": 55,
     "metadata": {},
     "output_type": "execute_result"
    }
   ],
   "source": [
    "arr_2d = np.random.randint(1,100,(2,2))\n",
    "arr_2d"
   ]
  },
  {
   "cell_type": "code",
   "execution_count": 56,
   "id": "db2fe71e",
   "metadata": {},
   "outputs": [
    {
     "data": {
      "text/plain": [
       "48"
      ]
     },
     "execution_count": 56,
     "metadata": {},
     "output_type": "execute_result"
    }
   ],
   "source": [
    "# get sum of whole array\n",
    "arr_2d.sum()"
   ]
  },
  {
   "cell_type": "code",
   "execution_count": 57,
   "id": "5a2c4f18",
   "metadata": {},
   "outputs": [
    {
     "data": {
      "text/plain": [
       "array([20, 28])"
      ]
     },
     "execution_count": 57,
     "metadata": {},
     "output_type": "execute_result"
    }
   ],
   "source": [
    "# axis = 1 for rows \n",
    "arr_2d.sum(axis =1)"
   ]
  },
  {
   "cell_type": "code",
   "execution_count": 58,
   "id": "39b3cf5b",
   "metadata": {},
   "outputs": [
    {
     "data": {
      "text/plain": [
       "array([25, 23])"
      ]
     },
     "execution_count": 58,
     "metadata": {},
     "output_type": "execute_result"
    }
   ],
   "source": [
    "# axis = 0 for coloumns\n",
    "arr_2d.sum(axis=0)"
   ]
  }
 ],
 "metadata": {
  "kernelspec": {
   "display_name": "Python 3 (ipykernel)",
   "language": "python",
   "name": "python3"
  },
  "language_info": {
   "codemirror_mode": {
    "name": "ipython",
    "version": 3
   },
   "file_extension": ".py",
   "mimetype": "text/x-python",
   "name": "python",
   "nbconvert_exporter": "python",
   "pygments_lexer": "ipython3",
   "version": "3.9.13"
  }
 },
 "nbformat": 4,
 "nbformat_minor": 5
}
